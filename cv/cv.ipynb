{
 "cells": [
  {
   "cell_type": "code",
   "execution_count": 1,
   "source": [
    "from IPython.display import HTML\n",
    "HTML(filename='header.html')"
   ],
   "outputs": [
    {
     "output_type": "execute_result",
     "data": {
      "text/html": [
       "<div style=\"text-align:center;\">\n",
       "    <h1 style=\"margin-bottom:0;\">Chris Weaver</h1>\n",
       "    <small>Software Developer ~ DevOps Engineer</small>\n",
       "    <br/><br/>\n",
       "    <span>Email: <a href=\"mailto:chrisweaver1@pm.me\">chrisweaver1@pm.me</a></span>\n",
       "    &nbsp;|&nbsp;\n",
       "    <span>Website: <a href=\"https://blog.weav.ovh\">https://blog.weav.ovh</a></span>\n",
       "    &nbsp;|&nbsp;\n",
       "    <span>Github: <a href=\"https://github.com/ChrisWeaver1\">ChrisWeaver1</a></span>\n",
       "    &nbsp;|&nbsp;\n",
       "    <span>LinkedIn: <a href=\"https://www.linkedin.com/in/chrisweaver2\">ChrisWeaver2</a></span>\n",
       "<div>\n",
       "<br/>\n",
       "<hr/>"
      ],
      "text/plain": [
       "<IPython.core.display.HTML object>"
      ]
     },
     "metadata": {},
     "execution_count": 1
    }
   ],
   "metadata": {}
  },
  {
   "cell_type": "markdown",
   "source": [
    "Web developer with a background in ethical hacking and a passion for backend API development, DevOps and infrastructure.\n",
    "\n",
    "I enjoy playing with all sorts of tech and learning new stuff. I encourage you to check my website for more on my interests, projects, day-to-day development notes and tools."
   ],
   "metadata": {}
  },
  {
   "cell_type": "markdown",
   "source": [
    "# Skills\n",
    "|||\n",
    "| -- | ---- |\n",
    "| Programming | .NET (C#), Javascript (Typescript, Node.js), Go, Python, Rust |\n",
    "| DevOps | Docker, Swarm, Azure DevOps, Github Actions, Ansible, Vagrant, Kubernetes, Nginx, IIS |\n",
    "| Operating Systems | Linux (Ubuntu, Debian, Alpine, PopOS), Windows |\n",
    "| Cloud | Azure, Digital Ocean, OVH |\n",
    "| Backend | ASP.NET, Flask, Gorilla Mux, Swagger/OpenAPI, REST APIs |\n",
    "| Databases | MicrosoftSQL, MongoDB, PostgreSQL |\n",
    "| Frontend | Angular, Jekyll, Electron, HTML5 |\n",
    "| Tools | Git, Github, Azure DevOps, VSCode, Emacs, Jira |"
   ],
   "metadata": {}
  }
 ],
 "metadata": {
  "orig_nbformat": 4,
  "language_info": {
   "name": "python",
   "version": "3.9.5",
   "mimetype": "text/x-python",
   "codemirror_mode": {
    "name": "ipython",
    "version": 3
   },
   "pygments_lexer": "ipython3",
   "nbconvert_exporter": "python",
   "file_extension": ".py"
  },
  "kernelspec": {
   "name": "python3",
   "display_name": "Python 3.9.5 64-bit"
  },
  "interpreter": {
   "hash": "31f2aee4e71d21fbe5cf8b01ff0e069b9275f58929596ceb00d14d90e3e16cd6"
  }
 },
 "nbformat": 4,
 "nbformat_minor": 2
}